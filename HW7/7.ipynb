{
 "cells": [
  {
   "cell_type": "markdown",
   "metadata": {
    "pycharm": {
     "name": "#%% md\n"
    }
   },
   "source": [
    "# Регулярные выражения"
   ]
  },
  {
   "cell_type": "code",
   "execution_count": 1,
   "metadata": {
    "pycharm": {
     "name": "#%%\n"
    }
   },
   "outputs": [],
   "source": [
    "from bs4 import BeautifulSoup as bs\n",
    "import re"
   ]
  },
  {
   "cell_type": "markdown",
   "metadata": {
    "pycharm": {
     "name": "#%% md\n"
    }
   },
   "source": [
    "В этом задании мы предлагаем вам извлечь информацию с данной [страницы](https://www.galeria.spb.ru/shops/)\n",
    "\n",
    "Для каждого этажа выведите список неработающих магазинов."
   ]
  },
  {
   "cell_type": "markdown",
   "metadata": {
    "pycharm": {
     "name": "#%% md\n"
    }
   },
   "source": [
    "Поскольку информация подгружается динамически, мы заранее подготовили для вас html-код, готовый к обработке (файл galeria.html)"
   ]
  },
  {
   "cell_type": "code",
   "execution_count": 118,
   "metadata": {
    "pycharm": {
     "name": "#%%\n"
    }
   },
   "outputs": [],
   "source": [
    "html_location = 'galeria.html'\n",
    "with open(html_location, \"r\", encoding=\"utf8\") as f:\n",
    "    page = f.read()\n",
    "\n",
    "soup = bs(page) # <-- тут html дерево\n",
    "all_shops = soup.find_all(\"div\", class_=\"shop\")\n",
    "shops_info_by_floors = {}\n",
    "\n",
    "def parse_shop_info(element):\n",
    "    title_raw = element.find(class_=\"shop__header\").text.strip()\n",
    "    result = re.match(r\"(.*) \\((временно не работает)\\)\", title_raw)\n",
    "    # если магазин работает, то прекращаем обработку\n",
    "    if not result: return\n",
    "    # получаем очищенный заголовок без сообщения о том, что магазин не работает\n",
    "    title = result.group(1)\n",
    "\n",
    "    floor_raw = element.find(class_=\"shop__floor\").text.strip()\n",
    "    floor_number = re.match(r\"(\\d+)\", floor_raw).group(1)\n",
    "    floor_key = f\"floor_{floor_number}\"\n",
    "\n",
    "    if floor_key not in shops_info_by_floors:\n",
    "        shops_info_by_floors[floor_key] = []\n",
    "\n",
    "    shops_info_by_floors[floor_key].append(title)\n",
    "\n",
    "for shop in all_shops:\n",
    "    parse_shop_info(shop)"
   ]
  },
  {
   "cell_type": "code",
   "execution_count": 119,
   "outputs": [
    {
     "data": {
      "text/plain": "{'floor_1': ['Zara',\n  'UNIQLO',\n  'Massimo Dutti',\n  \"Victoria's Secret\",\n  'BOSS',\n  'Sephora',\n  'Swarovski',\n  'Swatch',\n  'Oysho',\n  'NYX',\n  \"Kiehl's\",\n  'Jo Malone London',\n  'MAC',\n  'The Body Shop',\n  'H&M',\n  'MOHITO',\n  'Marc O’Polo',\n  'Zara Home',\n  'Chanel',\n  'Nespresso'],\n 'floor_2': ['Reserved',\n  'Stradivarius',\n  'MANGO',\n  'Pull&Bear',\n  'Bershka',\n  \"Women'Secret\",\n  'TonyMoly',\n  'Vagabond',\n  'HOUSE',\n  'TOM TAILOR',\n  \"Levi's\",\n  'HUGO'],\n 'floor_3': ['Adidas',\n  'MIXIT',\n  'Samsonite',\n  'Vans',\n  'Sinsay',\n  'Cropp',\n  'Helly Hansen',\n  'LUHTA.FINLAND.FASHION',\n  'Reebok',\n  'Adidas Originals',\n  'Reebok Classic',\n  'PUMA',\n  'PUMA SELECT'],\n 'floor_4': ['Mothercare', 'Reima', 'Adidas kids', 'Toy.ru']}"
     },
     "execution_count": 119,
     "metadata": {},
     "output_type": "execute_result"
    }
   ],
   "source": [
    "shops_info_by_floors\n"
   ],
   "metadata": {
    "collapsed": false,
    "pycharm": {
     "name": "#%%\n"
    }
   }
  }
 ],
 "metadata": {
  "kernelspec": {
   "display_name": "Python 3 (ipykernel)",
   "language": "python",
   "name": "python3"
  },
  "language_info": {
   "codemirror_mode": {
    "name": "ipython",
    "version": 3
   },
   "file_extension": ".py",
   "mimetype": "text/x-python",
   "name": "python",
   "nbconvert_exporter": "python",
   "pygments_lexer": "ipython3",
   "version": "3.7.7"
  }
 },
 "nbformat": 4,
 "nbformat_minor": 4
}